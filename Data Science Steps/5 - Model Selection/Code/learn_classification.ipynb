{
 "cells": [
  {
   "cell_type": "markdown",
   "metadata": {},
   "source": [
    "# Learn Classification\n",
    "- [Logistic Regression](#lr1)\n",
    "- [Random Forest](#lr2)\n",
    "- [Decision Tree](#lr3)\n",
    "- [Gradient Boosted](#lr4)\n",
    "- [SVM](#lr5)\n",
    "- [Naive Bayes](#lr6)\n",
    "- [Neural Network](#lr7)\n",
    "\n",
    "### Each model will have:\n",
    "- Variants\n",
    "- Best Suited for\n",
    "- Possible Returns\n",
    "- Example"
   ]
  },
  {
   "cell_type": "markdown",
   "metadata": {},
   "source": [
    "## <a id=\"lr1\">Logistic Regression</a> \n",
    "\n",
    "- Variants\n",
    "- Best Suited for\n",
    "- Possible Returns\n",
    "- Example\n"
   ]
  },
  {
   "cell_type": "code",
   "execution_count": null,
   "metadata": {},
   "outputs": [],
   "source": []
  },
  {
   "cell_type": "markdown",
   "metadata": {},
   "source": [
    "## <a id=\"lr2\">Random Forest</a> \n",
    "\n",
    "- Variants\n",
    "- Best Suited for\n",
    "- Possible Returns\n",
    "- Example"
   ]
  },
  {
   "cell_type": "code",
   "execution_count": null,
   "metadata": {},
   "outputs": [],
   "source": []
  },
  {
   "cell_type": "markdown",
   "metadata": {},
   "source": [
    "## <a id=\"lr3\">Decision Tree</a> \n",
    "\n",
    "- Variants\n",
    "- Best Suited for\n",
    "- Possible Returns\n",
    "- Example"
   ]
  },
  {
   "cell_type": "code",
   "execution_count": null,
   "metadata": {},
   "outputs": [],
   "source": []
  },
  {
   "cell_type": "markdown",
   "metadata": {},
   "source": [
    "## <a id=\"lr4\">Gradient Boosted</a> \n",
    "- Variants\n",
    "- Best Suited for\n",
    "- Possible Returns\n",
    "- Example"
   ]
  },
  {
   "cell_type": "code",
   "execution_count": null,
   "metadata": {},
   "outputs": [],
   "source": []
  },
  {
   "cell_type": "markdown",
   "metadata": {},
   "source": [
    "## <a id=\"lr5\">SVM</a> \n",
    "\n",
    "- Variants\n",
    "- Best Suited for\n",
    "- Possible Returns\n",
    "- Example"
   ]
  },
  {
   "cell_type": "code",
   "execution_count": null,
   "metadata": {},
   "outputs": [],
   "source": []
  },
  {
   "cell_type": "markdown",
   "metadata": {},
   "source": [
    "## <a id=\"lr6\">Naive Bayes</a> \n",
    "- Variants\n",
    "- Best Suited for\n",
    "- Possible Returns\n",
    "- Example"
   ]
  },
  {
   "cell_type": "code",
   "execution_count": null,
   "metadata": {},
   "outputs": [],
   "source": []
  },
  {
   "cell_type": "markdown",
   "metadata": {},
   "source": [
    "## <a id=\"lr7\">Neural Network</a>\n",
    "- Variants\n",
    "- Best Suited for\n",
    "- Possible Returns\n",
    "- Example"
   ]
  },
  {
   "cell_type": "markdown",
   "metadata": {},
   "source": []
  }
 ],
 "metadata": {
  "kernelspec": {
   "display_name": "Python 3",
   "language": "python",
   "name": "python3"
  },
  "language_info": {
   "codemirror_mode": {
    "name": "ipython",
    "version": 3
   },
   "file_extension": ".py",
   "mimetype": "text/x-python",
   "name": "python",
   "nbconvert_exporter": "python",
   "pygments_lexer": "ipython3",
   "version": "3.10.11"
  }
 },
 "nbformat": 4,
 "nbformat_minor": 2
}
